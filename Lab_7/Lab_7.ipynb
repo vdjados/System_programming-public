{
 "cells": [
  {
   "cell_type": "code",
   "execution_count": 1,
   "metadata": {},
   "outputs": [
    {
     "data": {
      "text/plain": [
       "[963,\n",
       " ['Треды (clone)'],\n",
       " ['Пятое после миниманого',\n",
       "  'Медиана (округленная до целого)',\n",
       "  'Количество простых',\n",
       "  'Наиболее редко встречающаяся цифра в случайных числах']]"
      ]
     },
     "execution_count": 1,
     "metadata": {},
     "output_type": "execute_result"
    }
   ],
   "source": [
    "import random as rd\n",
    "\n",
    "Variant = 4\n",
    "rd.seed(Variant)\n",
    "\n",
    "count = rd.randint(500, 1000)\n",
    "\n",
    "methods = [\"Треды (clone)\",\"Процессы (fork)\" ]\n",
    "\n",
    "list_actions = [\"Среднее арифметическое значение (округленное до целого)\",\"Медиана (округленная до целого)\",\n",
    "                \"Количество чисел кратных пяти\", \"Третье после максимального\", \"Пятое после миниманого\", \"Количество простых\",\n",
    "               \"Количество чисел, сумма цифр  которых кратна 3\", \"0.75 квантиль\",\n",
    "                \"Наиболее часто встречающаяся цифра в случайных числах\",\n",
    "               \"Наиболее редко встречающаяся цифра в случайных числах\"]\n",
    "\n",
    "[count, rd.sample(methods, 1), rd.sample(list_actions, 4)]\n"
   ]
  }
 ],
 "metadata": {
  "kernelspec": {
   "display_name": "Python 3",
   "language": "python",
   "name": "python3"
  },
  "language_info": {
   "codemirror_mode": {
    "name": "ipython",
    "version": 3
   },
   "file_extension": ".py",
   "mimetype": "text/x-python",
   "name": "python",
   "nbconvert_exporter": "python",
   "pygments_lexer": "ipython3",
   "version": "3.12.1"
  }
 },
 "nbformat": 4,
 "nbformat_minor": 2
}
