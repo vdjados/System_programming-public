{
 "cells": [
  {
   "cell_type": "code",
   "execution_count": 1,
   "metadata": {},
   "outputs": [
    {
     "name": "stdout",
     "output_type": "stream",
     "text": [
      "Алгоритм:  [4]\n",
      "Цвета заполнения:  ['COLOR_BLUE', 'COLOR_BLACK']\n",
      "Кнопки выхода, изменения скорости:  ['b', 'd']\n"
     ]
    }
   ],
   "source": [
    "import random as rd\n",
    "\n",
    "Variant = 4\n",
    "rd.seed(Variant)\n",
    "\n",
    "\n",
    "colors = ['COLOR_BLACK', 'COLOR_RED', 'COLOR_GREEN', 'СOLOR_YELLOW', 'COLOR_BLUE', 'COLOR_MAGENTA', 'COLOR_CYAN', 'COLOR_WHITE']\n",
    "buttons = ['q', 'w', 'e', 'r', 't', 'y', 'u', 'i', 'o', 'p', 'a', 's', 'd', 'f', 'g', 'h', 'j','k','l','z','x','c','v','b','n','m']\n",
    "print(\"Алгоритм: \" , rd.sample([1,2,3,4,5,6,7,8],1))\n",
    "print(\"Цвета заполнения: \" , rd.sample(colors,2))\n",
    "print(\"Кнопки выхода, изменения скорости: \" , rd.sample(buttons,2))"
   ]
  }
 ],
 "metadata": {
  "kernelspec": {
   "display_name": "Python 3",
   "language": "python",
   "name": "python3"
  },
  "language_info": {
   "codemirror_mode": {
    "name": "ipython",
    "version": 3
   },
   "file_extension": ".py",
   "mimetype": "text/x-python",
   "name": "python",
   "nbconvert_exporter": "python",
   "pygments_lexer": "ipython3",
   "version": "3.12.1"
  }
 },
 "nbformat": 4,
 "nbformat_minor": 2
}
